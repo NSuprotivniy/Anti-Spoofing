{
 "cells": [
  {
   "cell_type": "code",
   "execution_count": null,
   "metadata": {},
   "outputs": [],
   "source": [
    "import ffmpeg\n",
    "import numpy as np\n",
    "import cv2\n",
    "from mtcnn.mtcnn import MTCNN\n",
    "from glob import glob\n",
    "from PIL import Image"
   ]
  },
  {
   "cell_type": "code",
   "execution_count": null,
   "metadata": {},
   "outputs": [],
   "source": [
    "input_height = 480\n",
    "input_width = 640\n",
    "output_height = 224\n",
    "output_width = 224"
   ]
  },
  {
   "cell_type": "code",
   "execution_count": null,
   "metadata": {},
   "outputs": [],
   "source": [
    "detector = MTCNN()"
   ]
  },
  {
   "cell_type": "code",
   "execution_count": null,
   "metadata": {},
   "outputs": [],
   "source": [
    "def detect(video):\n",
    "    for img in video:\n",
    "        for detected in detector.detect_faces(img):\n",
    "            try:\n",
    "                x0 = detected['box'][0]\n",
    "                y0 = detected['box'][1]\n",
    "                x1 = x0 + detected['box'][2]\n",
    "                y1 = y0 + detected['box'][3]\n",
    "                croped = img[y0:y1, x0:x1]\n",
    "                resized = np.array(Image.fromarray(croped).resize((output_height, output_width)))\n",
    "                yield resized\n",
    "            except:\n",
    "                continue"
   ]
  },
  {
   "cell_type": "code",
   "execution_count": null,
   "metadata": {},
   "outputs": [],
   "source": [
    "def video_to_frames(path):\n",
    "    out, _ = (\n",
    "        ffmpeg\n",
    "        .input(path)\n",
    "        .output('pipe:', format='rawvideo', pix_fmt='rgb24')\n",
    "        .run(capture_stdout=True)\n",
    "    )\n",
    "    frames = (\n",
    "        np\n",
    "        .frombuffer(out, np.uint8)\n",
    "        .reshape([-1, input_height, input_width, 3])\n",
    "    )\n",
    "    return frames"
   ]
  },
  {
   "cell_type": "code",
   "execution_count": null,
   "metadata": {},
   "outputs": [],
   "source": [
    "def process(files):\n",
    "    for file in files:\n",
    "        for face in detect(video_to_frames(file)):\n",
    "            yield face.flatten()"
   ]
  },
  {
   "cell_type": "code",
   "execution_count": null,
   "metadata": {},
   "outputs": [],
   "source": [
    "live = glob(\"data/FRAUD2-Sunlight/Live_Faces/*/*/*.avi\")\n",
    "paper = glob(\"data/FRAUD2-Sunlight/Paper_Faces/*/*/*.avi\")"
   ]
  },
  {
   "cell_type": "code",
   "execution_count": null,
   "metadata": {},
   "outputs": [],
   "source": [
    "%%time\n",
    "live_processed = np.vstack(process(live))\n",
    "np.save(\"live/sunlight.npy\", live_processed)"
   ]
  },
  {
   "cell_type": "code",
   "execution_count": null,
   "metadata": {},
   "outputs": [],
   "source": [
    "%%time\n",
    "paper_processed = np.vstack(process(paper))\n",
    "np.save(\"paper/sunlight.npy\", paper_processed)"
   ]
  },
  {
   "cell_type": "code",
   "execution_count": null,
   "metadata": {},
   "outputs": [],
   "source": [
    "types = [\"Office\", \"Cloud\", \"Dark\", \"Natural\"]\n",
    "for t in types:\n",
    "    print(t)\n",
    "    live = glob(\"data/FRAUD2-{}/Live_Faces/*/*/*.avi\".format(t))\n",
    "    paper = glob(\"data/FRAUD2-{}/Paper_Faces/*/*/*.avi\".format(t))\n",
    "    live_processed = np.vstack(process(live))\n",
    "    np.save(\"live/{}.npy\".format(t), live_processed)\n",
    "    paper_processed = np.vstack(process(paper))\n",
    "    np.save(\"paper/{}.npy\".format(t), paper_processed)"
   ]
  },
  {
   "cell_type": "code",
   "execution_count": null,
   "metadata": {},
   "outputs": [],
   "source": [
    "types = [\"Shade\"]\n",
    "for t in types:\n",
    "    print(t)\n",
    "    live = glob(\"data/FRAUD2-{}/Live_Faces/*/*/*.avi\".format(t))\n",
    "    paper = glob(\"data/FRAUD2-{}/Paper_Faces/*/*/*.avi\".format(t))\n",
    "    live_processed = np.vstack(process(live))\n",
    "    np.save(\"live/{}.npy\".format(t), live_processed)\n",
    "    paper_processed = np.vstack(process(paper))\n",
    "    np.save(\"paper/{}.npy\".format(t), paper_processed)"
   ]
  },
  {
   "cell_type": "markdown",
   "metadata": {},
   "source": [
    "# Combine and sampling"
   ]
  },
  {
   "cell_type": "code",
   "execution_count": null,
   "metadata": {},
   "outputs": [],
   "source": [
    "arrays = []\n",
    "for p in glob(\"data/live/*\"):\n",
    "    arrays.append(np.load(p))\n",
    "stacked = np.vstack(arrays)\n",
    "np.random.shuffle(stacked)\n",
    "for i, a in enumerate(np.array_split(stacked, 128)):\n",
    "    np.save(\"live/{}.npy\".format(i), a)"
   ]
  },
  {
   "cell_type": "code",
   "execution_count": null,
   "metadata": {},
   "outputs": [],
   "source": []
  },
  {
   "cell_type": "code",
   "execution_count": null,
   "metadata": {},
   "outputs": [],
   "source": [
    "arrays = []\n",
    "for p in glob(\"data/paper/*\"):\n",
    "    arrays.append(np.load(p))\n",
    "stacked = np.vstack(arrays)\n",
    "np.random.shuffle(stacked)\n",
    "for i, a in enumerate(np.array_split(stacked, 128)):\n",
    "    np.save(\"paper/{}.npy\".format(i), a)"
   ]
  },
  {
   "cell_type": "code",
   "execution_count": null,
   "metadata": {},
   "outputs": [],
   "source": []
  }
 ],
 "metadata": {
  "kernelspec": {
   "display_name": "Python 3",
   "language": "python",
   "name": "python3"
  },
  "language_info": {
   "codemirror_mode": {
    "name": "ipython",
    "version": 3
   },
   "file_extension": ".py",
   "mimetype": "text/x-python",
   "name": "python",
   "nbconvert_exporter": "python",
   "pygments_lexer": "ipython3",
   "version": "3.7.3"
  }
 },
 "nbformat": 4,
 "nbformat_minor": 2
}
