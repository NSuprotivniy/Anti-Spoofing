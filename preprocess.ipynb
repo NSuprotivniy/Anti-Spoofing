{
  "nbformat": 4,
  "nbformat_minor": 0,
  "metadata": {
    "colab": {
      "name": "preprocess.ipynb",
      "version": "0.3.2",
      "provenance": [],
      "toc_visible": true,
      "include_colab_link": true
    },
    "language_info": {
      "codemirror_mode": {
        "name": "ipython",
        "version": 3
      },
      "file_extension": ".py",
      "mimetype": "text/x-python",
      "name": "python",
      "nbconvert_exporter": "python",
      "pygments_lexer": "ipython3",
      "version": "3.7.3"
    },
    "kernelspec": {
      "display_name": "Python 3",
      "language": "python",
      "name": "python3"
    }
  },
  "cells": [
    {
      "cell_type": "markdown",
      "metadata": {
        "id": "view-in-github",
        "colab_type": "text"
      },
      "source": [
        "<a href=\"https://colab.research.google.com/github/NSuprotivniy/anti-spoofing/blob/master/preprocess.ipynb\" target=\"_parent\"><img src=\"https://colab.research.google.com/assets/colab-badge.svg\" alt=\"Open In Colab\"/></a>"
      ]
    },
    {
      "metadata": {
        "id": "vOIEsMrt1qEi",
        "colab_type": "code",
        "outputId": "03aee6d5-ce45-46df-9c17-02da6280f082",
        "colab": {
          "base_uri": "https://localhost:8080/",
          "height": 241
        }
      },
      "cell_type": "code",
      "source": [
        "!sudo apt install ffmpeg\n",
        "!pip install ffmpeg\n",
        "!pip install opencv-python\n",
        "!pip install MTCNN"
      ],
      "execution_count": 1,
      "outputs": [
        {
          "output_type": "stream",
          "text": [
            "Reading package lists... Done\n",
            "Building dependency tree       \n",
            "Reading state information... Done\n",
            "ffmpeg is already the newest version (7:3.4.4-0ubuntu0.18.04.1).\n",
            "The following package was automatically installed and is no longer required:\n",
            "  libnvidia-common-410\n",
            "Use 'sudo apt autoremove' to remove it.\n",
            "0 upgraded, 0 newly installed, 0 to remove and 6 not upgraded.\n",
            "Requirement already satisfied: ffmpeg in /usr/local/lib/python3.6/dist-packages (1.4)\n",
            "Requirement already satisfied: opencv-python in /usr/local/lib/python3.6/dist-packages (3.4.5.20)\n",
            "Requirement already satisfied: numpy>=1.11.3 in /usr/local/lib/python3.6/dist-packages (from opencv-python) (1.16.2)\n",
            "Requirement already satisfied: MTCNN in /usr/local/lib/python3.6/dist-packages (0.0.8)\n"
          ],
          "name": "stdout"
        }
      ]
    },
    {
      "metadata": {
        "id": "15P-FPZI1S4m",
        "colab_type": "code",
        "colab": {}
      },
      "cell_type": "code",
      "source": [
        "import ffmpeg\n",
        "import numpy as np\n",
        "import cv2\n",
        "from mtcnn.mtcnn import MTCNN\n",
        "from glob import glob\n",
        "from PIL import Image\n",
        "from google.colab import drive\n",
        "from os.path import join"
      ],
      "execution_count": 0,
      "outputs": []
    },
    {
      "metadata": {
        "id": "cb6Ti9O51ndL",
        "colab_type": "code",
        "colab": {
          "base_uri": "https://localhost:8080/",
          "height": 54
        },
        "outputId": "0f2b67c1-2616-45a8-9644-e5995fea669c"
      },
      "cell_type": "code",
      "source": [
        "drive.mount(\"/content/nsuprotivniy/\")"
      ],
      "execution_count": 4,
      "outputs": [
        {
          "output_type": "stream",
          "text": [
            "Drive already mounted at /content/nsuprotivniy/; to attempt to forcibly remount, call drive.mount(\"/content/nsuprotivniy/\", force_remount=True).\n"
          ],
          "name": "stdout"
        }
      ]
    },
    {
      "metadata": {
        "id": "UzlrbFJX7fBw",
        "colab_type": "code",
        "colab": {}
      },
      "cell_type": "code",
      "source": [
        "data = \"/content/nsuprotivniy/My Drive/Colab Notebooks/data\""
      ],
      "execution_count": 0,
      "outputs": []
    },
    {
      "metadata": {
        "id": "wWVQ9gTc1S4s",
        "colab_type": "code",
        "colab": {}
      },
      "cell_type": "code",
      "source": [
        "input_height = 480\n",
        "input_width = 640\n",
        "output_height = 224\n",
        "output_width = 224"
      ],
      "execution_count": 0,
      "outputs": []
    },
    {
      "metadata": {
        "id": "3h8c0oFU1S4v",
        "colab_type": "code",
        "colab": {}
      },
      "cell_type": "code",
      "source": [
        "detector = MTCNN()"
      ],
      "execution_count": 0,
      "outputs": []
    },
    {
      "metadata": {
        "id": "NNKGC3sn1S40",
        "colab_type": "code",
        "colab": {}
      },
      "cell_type": "code",
      "source": [
        "def detect(video):\n",
        "    for img in video:\n",
        "        for detected in detector.detect_faces(img):\n",
        "            try:\n",
        "                x0 = detected['box'][0]\n",
        "                y0 = detected['box'][1]\n",
        "                x1 = x0 + detected['box'][2]\n",
        "                y1 = y0 + detected['box'][3]\n",
        "                croped = img[y0:y1, x0:x1]\n",
        "                resized = np.array(Image.fromarray(croped).resize((output_height, output_width)))\n",
        "                yield resized\n",
        "            except:\n",
        "                continue"
      ],
      "execution_count": 0,
      "outputs": []
    },
    {
      "metadata": {
        "id": "F-tJlC0k1S42",
        "colab_type": "code",
        "colab": {}
      },
      "cell_type": "code",
      "source": [
        "def video_to_frames(path):\n",
        "    out, _ = (\n",
        "        ffmpeg\n",
        "        .input(path)\n",
        "        .output('pipe:', format='rawvideo', pix_fmt='rgb24')\n",
        "        .run(capture_stdout=True)\n",
        "    )\n",
        "    frames = (\n",
        "        np\n",
        "        .frombuffer(out, np.uint8)\n",
        "        .reshape([-1, input_height, input_width, 3])\n",
        "    )\n",
        "    return frames"
      ],
      "execution_count": 0,
      "outputs": []
    },
    {
      "metadata": {
        "id": "GkV6DKEN1S45",
        "colab_type": "code",
        "colab": {}
      },
      "cell_type": "code",
      "source": [
        "def process(files):\n",
        "    for file in files:\n",
        "        for face in detect(video_to_frames(file)):\n",
        "            yield face.flatten()"
      ],
      "execution_count": 0,
      "outputs": []
    },
    {
      "metadata": {
        "id": "zyucQ-wt1S5J",
        "colab_type": "code",
        "colab": {}
      },
      "cell_type": "code",
      "source": [
        "types = [\"Sunlight\", \"Office\", \"Cloud\", \"Dark\", \"Natural\", \"Shade\"]\n",
        "for t in types:\n",
        "    print(t)\n",
        "    live = glob(\"data/FRAUD2-{}/Live_Faces/*/*/*.avi\".format(t))\n",
        "    paper = glob(\"data/FRAUD2-{}/Paper_Faces/*/*/*.avi\".format(t))\n",
        "    live_processed = np.vstack(process(live))\n",
        "    np.save(\"live/{}.npy\".format(t), live_processed)\n",
        "    paper_processed = np.vstack(process(paper))\n",
        "    np.save(\"paper/{}.npy\".format(t), paper_processed)"
      ],
      "execution_count": 0,
      "outputs": []
    },
    {
      "metadata": {
        "id": "wqck0fEA1S5P",
        "colab_type": "text"
      },
      "cell_type": "markdown",
      "source": [
        "# Combine and sampling"
      ]
    },
    {
      "metadata": {
        "id": "43ylNazcRjUV",
        "colab_type": "code",
        "colab": {}
      },
      "cell_type": "code",
      "source": [
        "!rm -r \"/content/nsuprotivniy/My Drive/Colab Notebooks/data/splitted/live\"\n",
        "!rm -r \"/content/nsuprotivniy/My Drive/Colab Notebooks/data/splitted/paper\"\n",
        "!mkdir \"/content/nsuprotivniy/My Drive/Colab Notebooks/data/splitted/live\"\n",
        "!mkdir \"/content/nsuprotivniy/My Drive/Colab Notebooks/data/splitted/paper\""
      ],
      "execution_count": 0,
      "outputs": []
    },
    {
      "metadata": {
        "id": "Om_joVjI1S5Q",
        "colab_type": "code",
        "colab": {}
      },
      "cell_type": "code",
      "source": [
        "arrays = []\n",
        "for p in glob(join(data, \"live/*\")):\n",
        "    arrays.append(np.load(p))\n",
        "stacked = np.vstack(arrays)\n",
        "np.random.shuffle(stacked)\n",
        "stacked = stacked.reshape((-1, 224, 224, 3))\n",
        "for i, a in enumerate(np.array_split(stacked, 2048)):\n",
        "    np.save(join(data, \"splitted/live/{}.npy\".format(i)), a)"
      ],
      "execution_count": 0,
      "outputs": []
    },
    {
      "metadata": {
        "id": "kFQrMbpd1S5U",
        "colab_type": "code",
        "colab": {}
      },
      "cell_type": "code",
      "source": [
        "arrays = []\n",
        "for p in glob(join(data, \"paper/*\")):\n",
        "    arrays.append(np.load(p))\n",
        "stacked = np.vstack(arrays)\n",
        "np.random.shuffle(stacked)\n",
        "stacked = stacked.reshape((-1, 224, 224, 3))\n",
        "for i, a in enumerate(np.array_split(stacked, 2048)):\n",
        "    np.save(join(data, \"splitted/paper/{}.npy\".format(i)), a)"
      ],
      "execution_count": 0,
      "outputs": []
    },
    {
      "metadata": {
        "id": "NYKoG1CYR8rk",
        "colab_type": "code",
        "colab": {}
      },
      "cell_type": "code",
      "source": [
        ""
      ],
      "execution_count": 0,
      "outputs": []
    }
  ]
}