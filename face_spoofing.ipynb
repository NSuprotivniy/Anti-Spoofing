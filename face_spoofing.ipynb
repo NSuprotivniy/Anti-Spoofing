{
  "nbformat": 4,
  "nbformat_minor": 0,
  "metadata": {
    "colab": {
      "name": "face spoofing.ipynb",
      "version": "0.3.2",
      "provenance": []
    },
    "kernelspec": {
      "name": "python3",
      "display_name": "Python 3"
    }
  },
  "cells": [
    {
      "metadata": {
        "id": "tOU8ff_RJ7zY",
        "colab_type": "code",
        "outputId": "f78bf04f-9840-4e11-e37a-a818520c6317",
        "colab": {
          "base_uri": "https://localhost:8080/",
          "height": 323
        }
      },
      "cell_type": "code",
      "source": [
        "pip install git+https://github.com/rcmalli/keras-vggface.git"
      ],
      "execution_count": 0,
      "outputs": [
        {
          "output_type": "stream",
          "text": [
            "Collecting git+https://github.com/rcmalli/keras-vggface.git\n",
            "  Cloning https://github.com/rcmalli/keras-vggface.git to /tmp/pip-req-build-crpqjh83\n",
            "Requirement already satisfied: numpy>=1.9.1 in /usr/local/lib/python3.6/dist-packages (from keras-vggface==0.5) (1.16.2)\n",
            "Requirement already satisfied: scipy>=0.14 in /usr/local/lib/python3.6/dist-packages (from keras-vggface==0.5) (1.2.1)\n",
            "Requirement already satisfied: h5py in /usr/local/lib/python3.6/dist-packages (from keras-vggface==0.5) (2.8.0)\n",
            "Requirement already satisfied: pillow in /usr/local/lib/python3.6/dist-packages (from keras-vggface==0.5) (4.3.0)\n",
            "Requirement already satisfied: keras in /usr/local/lib/python3.6/dist-packages (from keras-vggface==0.5) (2.2.4)\n",
            "Requirement already satisfied: six>=1.9.0 in /usr/local/lib/python3.6/dist-packages (from keras-vggface==0.5) (1.11.0)\n",
            "Requirement already satisfied: pyyaml in /usr/local/lib/python3.6/dist-packages (from keras-vggface==0.5) (3.13)\n",
            "Requirement already satisfied: olefile in /usr/local/lib/python3.6/dist-packages (from pillow->keras-vggface==0.5) (0.46)\n",
            "Requirement already satisfied: keras-preprocessing>=1.0.5 in /usr/local/lib/python3.6/dist-packages (from keras->keras-vggface==0.5) (1.0.9)\n",
            "Requirement already satisfied: keras-applications>=1.0.6 in /usr/local/lib/python3.6/dist-packages (from keras->keras-vggface==0.5) (1.0.7)\n",
            "Building wheels for collected packages: keras-vggface\n",
            "  Building wheel for keras-vggface (setup.py) ... \u001b[?25ldone\n",
            "\u001b[?25h  Stored in directory: /tmp/pip-ephem-wheel-cache-ucfxpsub/wheels/36/07/46/06c25ce8e9cd396dabe151ea1d8a2bc28dafcb11321c1f3a6d\n",
            "Successfully built keras-vggface\n",
            "Installing collected packages: keras-vggface\n",
            "Successfully installed keras-vggface-0.5\n"
          ],
          "name": "stdout"
        }
      ]
    },
    {
      "metadata": {
        "id": "ZfPNLVe9JoyO",
        "colab_type": "code",
        "colab": {}
      },
      "cell_type": "code",
      "source": [
        "from keras.engine import  Model\n",
        "from keras.layers import Flatten, Dense, Input, Dropout\n",
        "from keras_vggface.vggface import VGGFace\n",
        "from keras.utils import Sequence\n",
        "import os\n",
        "import wget\n",
        "from zipfile import ZipFile"
      ],
      "execution_count": 0,
      "outputs": []
    },
    {
      "metadata": {
        "id": "v3l-DFZaJvny",
        "colab_type": "code",
        "outputId": "067824e8-e641-483a-e54b-8e67d9b30552",
        "colab": {
          "base_uri": "https://localhost:8080/",
          "height": 122
        }
      },
      "cell_type": "code",
      "source": [
        "vgg_model = VGGFace(include_top=False, input_shape=(224, 224, 3), model='resnet50')"
      ],
      "execution_count": 0,
      "outputs": [
        {
          "output_type": "stream",
          "text": [
            "WARNING:tensorflow:From /usr/local/lib/python3.6/dist-packages/tensorflow/python/framework/op_def_library.py:263: colocate_with (from tensorflow.python.framework.ops) is deprecated and will be removed in a future version.\n",
            "Instructions for updating:\n",
            "Colocations handled automatically by placer.\n",
            "Downloading data from https://github.com/rcmalli/keras-vggface/releases/download/v2.0/rcmalli_vggface_tf_notop_resnet50.h5\n",
            "94699520/94694792 [==============================] - 12s 0us/step\n"
          ],
          "name": "stdout"
        }
      ]
    },
    {
      "metadata": {
        "id": "mIG0AxdaKaUb",
        "colab_type": "code",
        "colab": {}
      },
      "cell_type": "code",
      "source": [
        "last_layer = vgg_model.get_layer('avg_pool').output\n",
        "x = Flatten(name='flatten')(last_layer)\n",
        "x = Dense(2048, activation='relu', name='dense_relu')(x)\n",
        "x = Dropout(0.1, seed=17)(x)\n",
        "out = Dense(1, activation='sigmoid', name='classifier')(x)\n",
        "custom_vgg_model = Model(vgg_model.input, out)"
      ],
      "execution_count": 0,
      "outputs": []
    },
    {
      "metadata": {
        "id": "CDOcZhKPZGqX",
        "colab_type": "code",
        "outputId": "c442d1a7-f865-428a-bfcb-a9d7268f8a1d",
        "colab": {
          "base_uri": "https://localhost:8080/",
          "height": 34
        }
      },
      "cell_type": "code",
      "source": [
        "class FaceReplayAttackUQDataset(Sequence):  \n",
        "  def __init__(self):\n",
        "    if (not os.path.exists(\"data\")):\n",
        "      self.__download__()\n",
        "    self.live_path = glob(os.path.join(\"data/live/.npy\"))\n",
        "    self.paper_path = glob(os.path.join(\"data/paper/*.npy\"))\n",
        "    \n",
        "\n",
        "  def __download__(self):\n",
        "    os.mkdir(\"data\")\n",
        "    wget.download(\"url\", 'data') \n",
        "    with ZipFile('data/data.zip', 'r') as zipObj:\n",
        "      zipObj.extractall(\"data\")    \n",
        "    \n",
        "\n",
        "  def __len__(self):\n",
        "    return max(len(self.live_path), len(self.paper_path))\n",
        "\n",
        "\n",
        "  def __getitem__(self, idx):\n",
        "    paper = np.read(self.paper_path[idx % len(self.paper_path)]) \n",
        "    live = np.read(self.live_path[idx % len(self.live_path)])\n",
        "    X = np.concatenate((paper, live))\n",
        "    y = np.concatenate((np.ones(len(paper)), np.zeros(len(live))))\n",
        "    X, y = self.__unison_shuffled_copies(X, y)\n",
        "    return X, y"
      ],
      "execution_count": 0,
      "outputs": [
        {
          "output_type": "execute_result",
          "data": {
            "text/plain": [
              "<tf.Tensor 'avg_pool/AvgPool:0' shape=(?, 1, 1, 2048) dtype=float32>"
            ]
          },
          "metadata": {
            "tags": []
          },
          "execution_count": 8
        }
      ]
    },
    {
      "metadata": {
        "id": "9KBbrZtrMlYt",
        "colab_type": "code",
        "colab": {}
      },
      "cell_type": "code",
      "source": [
        "if (not os.path.exists(\"checkpoints\")):\n",
        "  os.mkdir(\"checkpoints\")\n",
        "checkpoint = ModelCheckpoint(\"checkpoints\", verbose=1, period=200)\n",
        "callbacks_list = [checkpoint]"
      ],
      "execution_count": 0,
      "outputs": []
    },
    {
      "metadata": {
        "id": "LbMXUENBaJC8",
        "colab_type": "code",
        "colab": {}
      },
      "cell_type": "code",
      "source": [
        "custom_vgg_model.fit_generator(generator, epochs=1000, verbose=1, callbacks=callbacks_list, shuffle=True)"
      ],
      "execution_count": 0,
      "outputs": []
    }
  ]
}