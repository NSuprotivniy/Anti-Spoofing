{
  "nbformat": 4,
  "nbformat_minor": 0,
  "metadata": {
    "colab": {
      "name": "nn.ipynb",
      "version": "0.3.2",
      "provenance": [],
      "include_colab_link": true
    },
    "kernelspec": {
      "name": "python3",
      "display_name": "Python 3"
    },
    "accelerator": "GPU"
  },
  "cells": [
    {
      "cell_type": "markdown",
      "metadata": {
        "id": "view-in-github",
        "colab_type": "text"
      },
      "source": [
        "<a href=\"https://colab.research.google.com/github/NSuprotivniy/anti-spoofing/blob/master/nn.ipynb\" target=\"_parent\"><img src=\"https://colab.research.google.com/assets/colab-badge.svg\" alt=\"Open In Colab\"/></a>"
      ]
    },
    {
      "metadata": {
        "id": "tOU8ff_RJ7zY",
        "colab_type": "code",
        "outputId": "42aa4a24-4dd5-4deb-9db0-1c40c63e6cb3",
        "colab": {
          "base_uri": "https://localhost:8080/",
          "height": 306
        }
      },
      "cell_type": "code",
      "source": [
        "pip install git+https://github.com/rcmalli/keras-vggface.git"
      ],
      "execution_count": 1,
      "outputs": [
        {
          "output_type": "stream",
          "text": [
            "Collecting git+https://github.com/rcmalli/keras-vggface.git\n",
            "  Cloning https://github.com/rcmalli/keras-vggface.git to /tmp/pip-req-build-o3jwt63t\n",
            "Requirement already satisfied (use --upgrade to upgrade): keras-vggface==0.5 from git+https://github.com/rcmalli/keras-vggface.git in /usr/local/lib/python3.6/dist-packages\n",
            "Requirement already satisfied: numpy>=1.9.1 in /usr/local/lib/python3.6/dist-packages (from keras-vggface==0.5) (1.16.2)\n",
            "Requirement already satisfied: scipy>=0.14 in /usr/local/lib/python3.6/dist-packages (from keras-vggface==0.5) (1.2.1)\n",
            "Requirement already satisfied: h5py in /usr/local/lib/python3.6/dist-packages (from keras-vggface==0.5) (2.8.0)\n",
            "Requirement already satisfied: pillow in /usr/local/lib/python3.6/dist-packages (from keras-vggface==0.5) (4.3.0)\n",
            "Requirement already satisfied: keras in /usr/local/lib/python3.6/dist-packages (from keras-vggface==0.5) (2.2.4)\n",
            "Requirement already satisfied: six>=1.9.0 in /usr/local/lib/python3.6/dist-packages (from keras-vggface==0.5) (1.12.0)\n",
            "Requirement already satisfied: pyyaml in /usr/local/lib/python3.6/dist-packages (from keras-vggface==0.5) (3.13)\n",
            "Requirement already satisfied: olefile in /usr/local/lib/python3.6/dist-packages (from pillow->keras-vggface==0.5) (0.46)\n",
            "Requirement already satisfied: keras-preprocessing>=1.0.5 in /usr/local/lib/python3.6/dist-packages (from keras->keras-vggface==0.5) (1.0.9)\n",
            "Requirement already satisfied: keras-applications>=1.0.6 in /usr/local/lib/python3.6/dist-packages (from keras->keras-vggface==0.5) (1.0.7)\n",
            "Building wheels for collected packages: keras-vggface\n",
            "  Building wheel for keras-vggface (setup.py) ... \u001b[?25ldone\n",
            "\u001b[?25h  Stored in directory: /tmp/pip-ephem-wheel-cache-bpahkvtt/wheels/36/07/46/06c25ce8e9cd396dabe151ea1d8a2bc28dafcb11321c1f3a6d\n",
            "Successfully built keras-vggface\n"
          ],
          "name": "stdout"
        }
      ]
    },
    {
      "metadata": {
        "id": "ZfPNLVe9JoyO",
        "colab_type": "code",
        "outputId": "138e0e93-0422-471a-fc0b-5830d10b08c2",
        "colab": {
          "base_uri": "https://localhost:8080/",
          "height": 34
        }
      },
      "cell_type": "code",
      "source": [
        "from keras.engine import  Model\n",
        "from keras.layers import Flatten, Dense, Input, Dropout\n",
        "from keras_vggface.vggface import VGGFace\n",
        "from keras.utils import Sequence\n",
        "from keras.callbacks import ModelCheckpoint\n",
        "from keras.optimizers import Adam\n",
        "import tensorflow as tf\n",
        "from keras import backend as K"
      ],
      "execution_count": 2,
      "outputs": [
        {
          "output_type": "stream",
          "text": [
            "Using TensorFlow backend.\n"
          ],
          "name": "stderr"
        }
      ]
    },
    {
      "metadata": {
        "id": "-W3_Na-7Sx9u",
        "colab_type": "code",
        "colab": {}
      },
      "cell_type": "code",
      "source": [
        "import os\n",
        "from glob import glob\n",
        "import numpy as np\n",
        "from google.colab import drive\n",
        "from sklearn.model_selection import train_test_split\n",
        "from sklearn.model_selection import KFold"
      ],
      "execution_count": 0,
      "outputs": []
    },
    {
      "metadata": {
        "id": "BbNfWXNVbEcE",
        "colab_type": "code",
        "colab": {}
      },
      "cell_type": "code",
      "source": [
        "def auc(y_true, y_pred):\n",
        "    auc = tf.metrics.auc(y_true, y_pred)[1]\n",
        "    K.get_session().run(tf.local_variables_initializer())\n",
        "    return auc"
      ],
      "execution_count": 0,
      "outputs": []
    },
    {
      "metadata": {
        "id": "mIG0AxdaKaUb",
        "colab_type": "code",
        "colab": {}
      },
      "cell_type": "code",
      "source": [
        "def get_model():\n",
        "  vgg_model = VGGFace(include_top=False, input_shape=(224, 224, 3), model='resnet50')\n",
        "  vgg_model.trainable = False\n",
        "  last_layer = vgg_model.get_layer('avg_pool').output\n",
        "  x = Flatten(name='flatten')(last_layer)\n",
        "  x = Dense(2048, activation='relu', name='dense_relu')(x)\n",
        "  x = Dropout(0.5, seed=17)(x)\n",
        "  out = Dense(1, activation='sigmoid', name='classifier')(x)\n",
        "  custom_vgg_model = Model(vgg_model.input, out)\n",
        "  custom_vgg_model.compile(optimizer=Adam(lr=0.000001), loss='binary_crossentropy', metrics=[auc])\n",
        "  return custom_vgg_model"
      ],
      "execution_count": 0,
      "outputs": []
    },
    {
      "metadata": {
        "id": "-Tq1VVX-kSQc",
        "colab_type": "code",
        "outputId": "8419f785-6dff-46a7-e277-5ee34255115d",
        "colab": {
          "base_uri": "https://localhost:8080/",
          "height": 34
        }
      },
      "cell_type": "code",
      "source": [
        "drive.mount(\"/content/nsuprotivniy/\")\n",
        "data_path = \"/content/nsuprotivniy/My Drive/Colab Notebooks/data/LCC_FASD/LCC_FASD_development\""
      ],
      "execution_count": 6,
      "outputs": [
        {
          "output_type": "stream",
          "text": [
            "Drive already mounted at /content/nsuprotivniy/; to attempt to forcibly remount, call drive.mount(\"/content/nsuprotivniy/\", force_remount=True).\n"
          ],
          "name": "stdout"
        }
      ]
    },
    {
      "metadata": {
        "id": "vC_FMBXsuYY7",
        "colab_type": "code",
        "colab": {}
      },
      "cell_type": "code",
      "source": [
        "class KfoldGenerator():  \n",
        "  def __init__(self, batch_size=32, folds=10, split=0.1, seed=17):\n",
        "    spoof_path = glob(os.path.join(data_path, \"spoof/cropped/*.npy\"))\n",
        "    real_path = glob(os.path.join(data_path, \"real/cropped/*.npy\"))\n",
        "    X = np.concatenate((spoof_path, real_path))\n",
        "    y = np.concatenate((np.ones(len(spoof_path)), np.zeros(len(real_path))))\n",
        "    \n",
        "    np.random.seed(seed)\n",
        "    ids = np.random.permutation(len(X))\n",
        "    \n",
        "    if len(X) % batch_size != 0:\n",
        "      to_add = np.random.choice(ids, -len(X) % batch_size)\n",
        "      ids = np.concatenate((ids, to_add))\n",
        "      \n",
        "    X, y = X[ids], y[ids]\n",
        "    \n",
        "    X_batches = np.array(np.split(X, len(X) // batch_size))\n",
        "    y_batches = np.array(np.split(y, len(X) // batch_size))\n",
        "      \n",
        "    X_train, X_test, y_train, y_test = train_test_split(X_batches, y_batches, \n",
        "                                                        test_size=split, \n",
        "                                                        random_state=seed)\n",
        "    self.test = X_test, y_test\n",
        "    self.train = X_train, y_train\n",
        "    \n",
        "    kfold = KFold(n_splits=folds, random_state=seed)\n",
        "    self.train_folds = [(X_batches[train], y_batches[train], \n",
        "                         X_batches[test], y_batches[test]) \n",
        "                        for train, test in kfold.split(X_batches, y_batches)]\n",
        "\n",
        "  def get_test(self):\n",
        "    return self.test\n",
        "  \n",
        "  def get_train(self):\n",
        "    return self.train\n",
        "  \n",
        "  def get_train_folds(self):\n",
        "    return self.train_folds"
      ],
      "execution_count": 0,
      "outputs": []
    },
    {
      "metadata": {
        "id": "CDOcZhKPZGqX",
        "colab_type": "code",
        "colab": {}
      },
      "cell_type": "code",
      "source": [
        "class Generator(Sequence):  \n",
        "  def __init__(self, X_batches, y_batches):\n",
        "    self.X_batches = X_batches\n",
        "    self.y_batches = y_batches\n",
        "    \n",
        "  def __len__(self):\n",
        "    return len(self.X_batches)\n",
        "\n",
        "  def __getitem__(self, idx):\n",
        "    X = np.array([np.load(path) for path in self.X_batches[idx]])\n",
        "    y = self.y_batches[idx]\n",
        "    return X, y"
      ],
      "execution_count": 0,
      "outputs": []
    },
    {
      "metadata": {
        "id": "22gRJnAuNtOu",
        "colab_type": "code",
        "colab": {}
      },
      "cell_type": "code",
      "source": [
        "kfoldgenrator = KfoldGenerator()"
      ],
      "execution_count": 0,
      "outputs": []
    },
    {
      "metadata": {
        "id": "4rfu8Fl8bfij",
        "colab_type": "code",
        "colab": {}
      },
      "cell_type": "code",
      "source": [
        "metrics_path = os.path.join(data_path, \"metrics\")\n",
        "if (not os.path.exists(metrics_path)):\n",
        "  os.mkdir(metrics_path)\n",
        "def save_metric(metrics, i):\n",
        "  with open(os.path.join(metrics_path, str(i) + \"_metrics\"), \"w\") as f:\n",
        "    f.write(\"fold {}: loss {}, auc {}\".format(i, metrics[0], metrics[1]))\n",
        "    \n",
        "def save_metric(metrics):\n",
        "  with open(os.path.join(metrics_path, \"metrics\"), \"w\") as f:\n",
        "    f.write(\"loss {}, auc {}\".format(i, metrics[0], metrics[1]))"
      ],
      "execution_count": 0,
      "outputs": []
    },
    {
      "metadata": {
        "id": "9KBbrZtrMlYt",
        "colab_type": "code",
        "colab": {}
      },
      "cell_type": "code",
      "source": [
        "checkpoints_path = os.path.join(data_path, \"checkpoints\")\n",
        "if (not os.path.exists(checkpoints_path)):\n",
        "  os.mkdir(checkpoints_path)"
      ],
      "execution_count": 0,
      "outputs": []
    },
    {
      "metadata": {
        "id": "LbMXUENBaJC8",
        "colab_type": "code",
        "colab": {}
      },
      "cell_type": "code",
      "source": [
        "for i, (X_train, y_train, X_test, y_test) in enumerate(kfoldgenrator.get_train_folds()):\n",
        "  checkpoint_filename = \"fold_\" + str(i) + \"_weights.h5\"\n",
        "  checkpoint = [ModelCheckpoint(os.path.join(checkpoints_path, checkpoint_filename), verbose=1, period=5)]\n",
        "  train_gen = Generator(X_train, y_train)\n",
        "  model = get_model()\n",
        "  model.fit_generator(train_gen, epochs=5, verbose=1, callbacks=checkpoint)\n",
        "  test_gen = Generator(X_test, y_test)\n",
        "  metrics = model.evaluate_generator(test_gen, verbose=1)\n",
        "  print(\"fold {}: loss {}, auc {}\".format(i, metrics[0], metrics[1]))\n",
        "  save_metric(metrics, i)"
      ],
      "execution_count": 0,
      "outputs": []
    },
    {
      "metadata": {
        "id": "S_xR37tueCy1",
        "colab_type": "code",
        "colab": {
          "base_uri": "https://localhost:8080/",
          "height": 459
        },
        "outputId": "b5b3f4c6-3b85-4b4d-af54-98f9e3481d64"
      },
      "cell_type": "code",
      "source": [
        "X_train, y_train = kfoldgenrator.get_train()\n",
        "X_test, y_test = kfoldgenrator.get_test()\n",
        "checkpoint_filename = \"final_model_weights.h5\"\n",
        "checkpoint = [ModelCheckpoint(os.path.join(checkpoints_path, checkpoint_filename), verbose=1, period=5)]\n",
        "train_gen = Generator(X_train, y_train)\n",
        "model = get_model()\n",
        "model.load_weights(os.path.join(checkpoints_path, checkpoint_filename))\n",
        "model.fit_generator(train_gen, epochs=10, verbose=1, callbacks=checkpoint)\n",
        "test_gen = Generator(X_test, y_test)\n",
        "metrics = model.evaluate_generator(test_gen, verbose=1)\n",
        "print(\"loss {}, auc {}\".format(metrics[0], metrics[1]))\n",
        "save_metric(metrics)"
      ],
      "execution_count": 27,
      "outputs": [
        {
          "output_type": "stream",
          "text": [
            "Epoch 1/10\n",
            "83/83 [==============================] - 101s 1s/step - loss: 0.0663 - auc: 0.9941\n",
            "Epoch 2/10\n",
            "83/83 [==============================] - 34s 409ms/step - loss: 0.0483 - auc: 0.9955\n",
            "Epoch 3/10\n",
            "83/83 [==============================] - 34s 411ms/step - loss: 0.0425 - auc: 0.9967\n",
            "Epoch 4/10\n",
            "83/83 [==============================] - 34s 413ms/step - loss: 0.0302 - auc: 0.9974\n",
            "Epoch 5/10\n",
            "83/83 [==============================] - 34s 411ms/step - loss: 0.0297 - auc: 0.9978\n",
            "\n",
            "Epoch 00005: saving model to /content/nsuprotivniy/My Drive/Colab Notebooks/data/LCC_FASD/LCC_FASD_development/checkpoints/final_model_weights.h5\n",
            "Epoch 6/10\n",
            "83/83 [==============================] - 34s 412ms/step - loss: 0.0224 - auc: 0.9980\n",
            "Epoch 7/10\n",
            "83/83 [==============================] - 34s 415ms/step - loss: 0.0180 - auc: 0.9983\n",
            "Epoch 8/10\n",
            "83/83 [==============================] - 34s 410ms/step - loss: 0.0156 - auc: 0.9986\n",
            "Epoch 9/10\n",
            "83/83 [==============================] - 34s 412ms/step - loss: 0.0118 - auc: 0.9988\n",
            "Epoch 10/10\n",
            "83/83 [==============================] - 34s 412ms/step - loss: 0.0100 - auc: 0.9990\n",
            "\n",
            "Epoch 00010: saving model to /content/nsuprotivniy/My Drive/Colab Notebooks/data/LCC_FASD/LCC_FASD_development/checkpoints/final_model_weights.h5\n",
            "10/10 [==============================] - 29s 3s/step\n",
            "loss 0.041323816683143375, auc 0.9990510463714599\n"
          ],
          "name": "stdout"
        }
      ]
    },
    {
      "metadata": {
        "id": "v-OAhIKRrdY9",
        "colab_type": "code",
        "colab": {}
      },
      "cell_type": "code",
      "source": [
        "\n"
      ],
      "execution_count": 0,
      "outputs": []
    }
  ]
}