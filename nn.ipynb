{
  "nbformat": 4,
  "nbformat_minor": 0,
  "metadata": {
    "colab": {
      "name": "nn.ipynb",
      "version": "0.3.2",
      "provenance": [],
      "include_colab_link": true
    },
    "kernelspec": {
      "name": "python3",
      "display_name": "Python 3"
    },
    "accelerator": "GPU"
  },
  "cells": [
    {
      "cell_type": "markdown",
      "metadata": {
        "id": "view-in-github",
        "colab_type": "text"
      },
      "source": [
        "<a href=\"https://colab.research.google.com/github/NSuprotivniy/anti-spoofing/blob/master/nn.ipynb\" target=\"_parent\"><img src=\"https://colab.research.google.com/assets/colab-badge.svg\" alt=\"Open In Colab\"/></a>"
      ]
    },
    {
      "metadata": {
        "id": "tOU8ff_RJ7zY",
        "colab_type": "code",
        "outputId": "6f6e92ed-4a24-47f4-c47e-17e65f288677",
        "colab": {
          "base_uri": "https://localhost:8080/",
          "height": 326
        }
      },
      "cell_type": "code",
      "source": [
        "pip install git+https://github.com/rcmalli/keras-vggface.git"
      ],
      "execution_count": 1,
      "outputs": [
        {
          "output_type": "stream",
          "text": [
            "Collecting git+https://github.com/rcmalli/keras-vggface.git\n",
            "  Cloning https://github.com/rcmalli/keras-vggface.git to /tmp/pip-req-build-gs_7l3uf\n",
            "Requirement already satisfied (use --upgrade to upgrade): keras-vggface==0.5 from git+https://github.com/rcmalli/keras-vggface.git in /usr/local/lib/python3.6/dist-packages\n",
            "Requirement already satisfied: numpy>=1.9.1 in /usr/local/lib/python3.6/dist-packages (from keras-vggface==0.5) (1.16.2)\n",
            "Requirement already satisfied: scipy>=0.14 in /usr/local/lib/python3.6/dist-packages (from keras-vggface==0.5) (1.2.1)\n",
            "Requirement already satisfied: h5py in /usr/local/lib/python3.6/dist-packages (from keras-vggface==0.5) (2.8.0)\n",
            "Requirement already satisfied: pillow in /usr/local/lib/python3.6/dist-packages (from keras-vggface==0.5) (4.3.0)\n",
            "Requirement already satisfied: keras in /usr/local/lib/python3.6/dist-packages (from keras-vggface==0.5) (2.2.4)\n",
            "Requirement already satisfied: six>=1.9.0 in /usr/local/lib/python3.6/dist-packages (from keras-vggface==0.5) (1.11.0)\n",
            "Requirement already satisfied: pyyaml in /usr/local/lib/python3.6/dist-packages (from keras-vggface==0.5) (3.13)\n",
            "Requirement already satisfied: olefile in /usr/local/lib/python3.6/dist-packages (from pillow->keras-vggface==0.5) (0.46)\n",
            "Requirement already satisfied: keras-applications>=1.0.6 in /usr/local/lib/python3.6/dist-packages (from keras->keras-vggface==0.5) (1.0.7)\n",
            "Requirement already satisfied: keras-preprocessing>=1.0.5 in /usr/local/lib/python3.6/dist-packages (from keras->keras-vggface==0.5) (1.0.9)\n",
            "Building wheels for collected packages: keras-vggface\n",
            "  Building wheel for keras-vggface (setup.py) ... \u001b[?25ldone\n",
            "\u001b[?25h  Stored in directory: /tmp/pip-ephem-wheel-cache-nedtndh5/wheels/36/07/46/06c25ce8e9cd396dabe151ea1d8a2bc28dafcb11321c1f3a6d\n",
            "Successfully built keras-vggface\n"
          ],
          "name": "stdout"
        }
      ]
    },
    {
      "metadata": {
        "id": "ZfPNLVe9JoyO",
        "colab_type": "code",
        "colab": {
          "base_uri": "https://localhost:8080/",
          "height": 34
        },
        "outputId": "dfe52ad9-ed87-4888-f056-fb4275ec82af"
      },
      "cell_type": "code",
      "source": [
        "from keras.engine import  Model\n",
        "from keras.layers import Flatten, Dense, Input, Dropout\n",
        "from keras_vggface.vggface import VGGFace\n",
        "from keras.utils import Sequence\n",
        "from keras.callbacks import ModelCheckpoint\n",
        "from keras.optimizers import Adam"
      ],
      "execution_count": 2,
      "outputs": [
        {
          "output_type": "stream",
          "text": [
            "Using TensorFlow backend.\n"
          ],
          "name": "stderr"
        }
      ]
    },
    {
      "metadata": {
        "id": "-W3_Na-7Sx9u",
        "colab_type": "code",
        "colab": {}
      },
      "cell_type": "code",
      "source": [
        "import os\n",
        "from glob import glob\n",
        "import numpy as np\n",
        "from google.colab import drive"
      ],
      "execution_count": 0,
      "outputs": []
    },
    {
      "metadata": {
        "id": "MBnJTzxFkG6s",
        "colab_type": "code",
        "colab": {
          "base_uri": "https://localhost:8080/",
          "height": 476
        },
        "outputId": "4909c8f0-0243-43bb-8087-4705fcc8153f"
      },
      "cell_type": "code",
      "source": [
        "from tensorflow.python.client import device_lib\n",
        "device_lib.list_local_devices()"
      ],
      "execution_count": 4,
      "outputs": [
        {
          "output_type": "execute_result",
          "data": {
            "text/plain": [
              "[name: \"/device:CPU:0\"\n",
              " device_type: \"CPU\"\n",
              " memory_limit: 268435456\n",
              " locality {\n",
              " }\n",
              " incarnation: 9759545197744174797, name: \"/device:XLA_CPU:0\"\n",
              " device_type: \"XLA_CPU\"\n",
              " memory_limit: 17179869184\n",
              " locality {\n",
              " }\n",
              " incarnation: 5301430672090695243\n",
              " physical_device_desc: \"device: XLA_CPU device\", name: \"/device:XLA_GPU:0\"\n",
              " device_type: \"XLA_GPU\"\n",
              " memory_limit: 17179869184\n",
              " locality {\n",
              " }\n",
              " incarnation: 8332224278160083208\n",
              " physical_device_desc: \"device: XLA_GPU device\", name: \"/device:GPU:0\"\n",
              " device_type: \"GPU\"\n",
              " memory_limit: 14800630580\n",
              " locality {\n",
              "   bus_id: 1\n",
              "   links {\n",
              "   }\n",
              " }\n",
              " incarnation: 2065007534234397984\n",
              " physical_device_desc: \"device: 0, name: Tesla T4, pci bus id: 0000:00:04.0, compute capability: 7.5\"]"
            ]
          },
          "metadata": {
            "tags": []
          },
          "execution_count": 4
        }
      ]
    },
    {
      "metadata": {
        "id": "v3l-DFZaJvny",
        "colab_type": "code",
        "outputId": "c5ae2b62-c1a3-45e5-ef3d-8a16bd114369",
        "colab": {
          "base_uri": "https://localhost:8080/",
          "height": 88
        }
      },
      "cell_type": "code",
      "source": [
        "vgg_model = VGGFace(include_top=False, input_shape=(224, 224, 3), model='resnet50')"
      ],
      "execution_count": 5,
      "outputs": [
        {
          "output_type": "stream",
          "text": [
            "WARNING:tensorflow:From /usr/local/lib/python3.6/dist-packages/tensorflow/python/framework/op_def_library.py:263: colocate_with (from tensorflow.python.framework.ops) is deprecated and will be removed in a future version.\n",
            "Instructions for updating:\n",
            "Colocations handled automatically by placer.\n"
          ],
          "name": "stdout"
        }
      ]
    },
    {
      "metadata": {
        "id": "mIG0AxdaKaUb",
        "colab_type": "code",
        "colab": {}
      },
      "cell_type": "code",
      "source": [
        "vgg_model.trainable = False\n",
        "last_layer = vgg_model.get_layer('avg_pool').output\n",
        "x = Flatten(name='flatten')(last_layer)\n",
        "x = Dense(2048, activation='relu', name='dense_relu')(x)\n",
        "x = Dropout(0.1, seed=17)(x)\n",
        "out = Dense(1, activation='sigmoid', name='classifier')(x)\n",
        "custom_vgg_model = Model(vgg_model.input, out)\n",
        "custom_vgg_model.compile(optimizer=Adam(lr=0.000001), loss='binary_crossentropy', metrics=['accuracy'])"
      ],
      "execution_count": 0,
      "outputs": []
    },
    {
      "metadata": {
        "id": "-Tq1VVX-kSQc",
        "colab_type": "code",
        "colab": {
          "base_uri": "https://localhost:8080/",
          "height": 34
        },
        "outputId": "e17d8e82-d8ab-4acc-8b48-2f350d5042c8"
      },
      "cell_type": "code",
      "source": [
        "drive.mount(\"/content/nsuprotivniy/\")\n",
        "data_path = \"/content/nsuprotivniy/My Drive/Colab Notebooks/data/\""
      ],
      "execution_count": 7,
      "outputs": [
        {
          "output_type": "stream",
          "text": [
            "Drive already mounted at /content/nsuprotivniy/; to attempt to forcibly remount, call drive.mount(\"/content/nsuprotivniy/\", force_remount=True).\n"
          ],
          "name": "stdout"
        }
      ]
    },
    {
      "metadata": {
        "id": "CDOcZhKPZGqX",
        "colab_type": "code",
        "colab": {}
      },
      "cell_type": "code",
      "source": [
        "class FaceReplayAttackUQDataset(Sequence):  \n",
        "  def __init__(self):\n",
        "    self.live_path = glob(os.path.join(data_path, \"splitted/live/*.npy\"))\n",
        "    self.paper_path = glob(os.path.join(data_path, \"splitted/paper/*.npy\"))\n",
        "    \n",
        "  def __len__(self):\n",
        "    return max(len(self.live_path), len(self.paper_path))\n",
        "\n",
        "\n",
        "  def __getitem__(self, idx):\n",
        "    paper = np.load(self.paper_path[idx % len(self.paper_path)]) \n",
        "    live = np.load(self.live_path[idx % len(self.live_path)])\n",
        "    X = np.concatenate((paper, live))\n",
        "    y = np.concatenate((np.ones(len(paper)), np.zeros(len(live))))\n",
        "    return X, y"
      ],
      "execution_count": 0,
      "outputs": []
    },
    {
      "metadata": {
        "id": "9KBbrZtrMlYt",
        "colab_type": "code",
        "colab": {}
      },
      "cell_type": "code",
      "source": [
        "if (not os.path.exists(os.path.join(data_path, \"checkpoints\"))):\n",
        "  os.mkdir(os.path.join(data_path, \"checkpoints\"))\n",
        "checkpoint = ModelCheckpoint(os.path.join(data_path, \"checkpoints/checkpoints\"), verbose=1, period=10)\n",
        "callbacks_list = [checkpoint]"
      ],
      "execution_count": 0,
      "outputs": []
    },
    {
      "metadata": {
        "id": "17TV_-4aTSvO",
        "colab_type": "code",
        "colab": {}
      },
      "cell_type": "code",
      "source": [
        "generator = FaceReplayAttackUQDataset()"
      ],
      "execution_count": 0,
      "outputs": []
    },
    {
      "metadata": {
        "id": "LbMXUENBaJC8",
        "colab_type": "code",
        "colab": {
          "base_uri": "https://localhost:8080/",
          "height": 187
        },
        "outputId": "20e477c8-ddec-4215-fb15-666546457695"
      },
      "cell_type": "code",
      "source": [
        "custom_vgg_model.fit_generator(generator, epochs=1000, verbose=1, callbacks=callbacks_list, shuffle=True)"
      ],
      "execution_count": 0,
      "outputs": [
        {
          "output_type": "stream",
          "text": [
            "Epoch 1/1000\n",
            "2048/2048 [==============================] - 550s 269ms/step - loss: 0.0274 - acc: 0.9907\n",
            "Epoch 2/1000\n",
            "2048/2048 [==============================] - 547s 267ms/step - loss: 8.0730e-04 - acc: 0.9998\n",
            "Epoch 3/1000\n",
            "2048/2048 [==============================] - 547s 267ms/step - loss: 1.1502e-04 - acc: 1.0000\n",
            "Epoch 4/1000\n",
            "2048/2048 [==============================] - 547s 267ms/step - loss: 3.0901e-05 - acc: 1.0000\n",
            "Epoch 5/1000\n",
            "1136/2048 [===============>..............] - ETA: 4:03 - loss: 1.3424e-05 - acc: 1.0000"
          ],
          "name": "stdout"
        }
      ]
    },
    {
      "metadata": {
        "id": "kwGeftzyQqZL",
        "colab_type": "code",
        "colab": {
          "base_uri": "https://localhost:8080/",
          "height": 34
        },
        "outputId": "469d5954-86d6-410e-e3ef-de20e7f9135e"
      },
      "cell_type": "code",
      "source": [
        "generator.__getitem__(1)[0].shape"
      ],
      "execution_count": 15,
      "outputs": [
        {
          "output_type": "execute_result",
          "data": {
            "text/plain": [
              "(19, 224, 224, 3)"
            ]
          },
          "metadata": {
            "tags": []
          },
          "execution_count": 15
        }
      ]
    },
    {
      "metadata": {
        "id": "t0XYGpeVqjBW",
        "colab_type": "code",
        "colab": {}
      },
      "cell_type": "code",
      "source": [
        "X, y = generator.__getitem__(1)\n",
        "predicted = custom_vgg_model.predict(X)"
      ],
      "execution_count": 0,
      "outputs": []
    },
    {
      "metadata": {
        "id": "CjGQAgP4M3Ka",
        "colab_type": "code",
        "colab": {
          "base_uri": "https://localhost:8080/",
          "height": 34
        },
        "outputId": "025fed5d-a23c-43e9-9640-6b52739c72c5"
      },
      "cell_type": "code",
      "source": [
        "np.mean((predicted > 0.5) == y)"
      ],
      "execution_count": 35,
      "outputs": [
        {
          "output_type": "execute_result",
          "data": {
            "text/plain": [
              "0.48931701972242514"
            ]
          },
          "metadata": {
            "tags": []
          },
          "execution_count": 35
        }
      ]
    },
    {
      "metadata": {
        "id": "jfYDIh2aNZGP",
        "colab_type": "code",
        "colab": {
          "base_uri": "https://localhost:8080/",
          "height": 34
        },
        "outputId": "33283ff4-34ac-4c61-aeb9-a024df3e8049"
      },
      "cell_type": "code",
      "source": [
        "295 * 256 * 55 * 55 * 4 / 1024 /1024 /1024"
      ],
      "execution_count": 1,
      "outputs": [
        {
          "output_type": "execute_result",
          "data": {
            "text/plain": [
              "0.8510351181030273"
            ]
          },
          "metadata": {
            "tags": []
          },
          "execution_count": 1
        }
      ]
    },
    {
      "metadata": {
        "id": "LXkHbFnOTllO",
        "colab_type": "code",
        "colab": {}
      },
      "cell_type": "code",
      "source": [
        ""
      ],
      "execution_count": 0,
      "outputs": []
    }
  ]
}